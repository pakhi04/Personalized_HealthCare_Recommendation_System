{
 "cells": [
  {
   "cell_type": "code",
   "execution_count": 1,
   "id": "c24de353-7882-4ce5-9549-35f7eeb75886",
   "metadata": {},
   "outputs": [],
   "source": [
    "import pandas as pd\n",
    "import numpy as np\n",
    "import matplotlib.pyplot as plt\n",
    "import seaborn as sns\n",
    "\n",
    "%matplotlib inline"
   ]
  },
  {
   "cell_type": "code",
   "execution_count": 2,
   "id": "d78f3105-42a4-4617-a60e-011de852d2fd",
   "metadata": {},
   "outputs": [
    {
     "data": {
      "text/html": [
       "<div>\n",
       "<style scoped>\n",
       "    .dataframe tbody tr th:only-of-type {\n",
       "        vertical-align: middle;\n",
       "    }\n",
       "\n",
       "    .dataframe tbody tr th {\n",
       "        vertical-align: top;\n",
       "    }\n",
       "\n",
       "    .dataframe thead th {\n",
       "        text-align: right;\n",
       "    }\n",
       "</style>\n",
       "<table border=\"1\" class=\"dataframe\">\n",
       "  <thead>\n",
       "    <tr style=\"text-align: right;\">\n",
       "      <th></th>\n",
       "      <th>itching</th>\n",
       "      <th>skin_rash</th>\n",
       "      <th>nodal_skin_eruptions</th>\n",
       "      <th>continuous_sneezing</th>\n",
       "      <th>shivering</th>\n",
       "      <th>chills</th>\n",
       "      <th>joint_pain</th>\n",
       "      <th>stomach_pain</th>\n",
       "      <th>acidity</th>\n",
       "      <th>ulcers_on_tongue</th>\n",
       "      <th>...</th>\n",
       "      <th>blackheads</th>\n",
       "      <th>scurring</th>\n",
       "      <th>skin_peeling</th>\n",
       "      <th>silver_like_dusting</th>\n",
       "      <th>small_dents_in_nails</th>\n",
       "      <th>inflammatory_nails</th>\n",
       "      <th>blister</th>\n",
       "      <th>red_sore_around_nose</th>\n",
       "      <th>yellow_crust_ooze</th>\n",
       "      <th>prognosis</th>\n",
       "    </tr>\n",
       "  </thead>\n",
       "  <tbody>\n",
       "    <tr>\n",
       "      <th>0</th>\n",
       "      <td>1</td>\n",
       "      <td>1</td>\n",
       "      <td>1</td>\n",
       "      <td>0</td>\n",
       "      <td>0</td>\n",
       "      <td>0</td>\n",
       "      <td>0</td>\n",
       "      <td>0</td>\n",
       "      <td>0</td>\n",
       "      <td>0</td>\n",
       "      <td>...</td>\n",
       "      <td>0</td>\n",
       "      <td>0</td>\n",
       "      <td>0</td>\n",
       "      <td>0</td>\n",
       "      <td>0</td>\n",
       "      <td>0</td>\n",
       "      <td>0</td>\n",
       "      <td>0</td>\n",
       "      <td>0</td>\n",
       "      <td>Fungal infection</td>\n",
       "    </tr>\n",
       "    <tr>\n",
       "      <th>1</th>\n",
       "      <td>0</td>\n",
       "      <td>1</td>\n",
       "      <td>1</td>\n",
       "      <td>0</td>\n",
       "      <td>0</td>\n",
       "      <td>0</td>\n",
       "      <td>0</td>\n",
       "      <td>0</td>\n",
       "      <td>0</td>\n",
       "      <td>0</td>\n",
       "      <td>...</td>\n",
       "      <td>0</td>\n",
       "      <td>0</td>\n",
       "      <td>0</td>\n",
       "      <td>0</td>\n",
       "      <td>0</td>\n",
       "      <td>0</td>\n",
       "      <td>0</td>\n",
       "      <td>0</td>\n",
       "      <td>0</td>\n",
       "      <td>Fungal infection</td>\n",
       "    </tr>\n",
       "    <tr>\n",
       "      <th>2</th>\n",
       "      <td>1</td>\n",
       "      <td>0</td>\n",
       "      <td>1</td>\n",
       "      <td>0</td>\n",
       "      <td>0</td>\n",
       "      <td>0</td>\n",
       "      <td>0</td>\n",
       "      <td>0</td>\n",
       "      <td>0</td>\n",
       "      <td>0</td>\n",
       "      <td>...</td>\n",
       "      <td>0</td>\n",
       "      <td>0</td>\n",
       "      <td>0</td>\n",
       "      <td>0</td>\n",
       "      <td>0</td>\n",
       "      <td>0</td>\n",
       "      <td>0</td>\n",
       "      <td>0</td>\n",
       "      <td>0</td>\n",
       "      <td>Fungal infection</td>\n",
       "    </tr>\n",
       "    <tr>\n",
       "      <th>3</th>\n",
       "      <td>1</td>\n",
       "      <td>1</td>\n",
       "      <td>0</td>\n",
       "      <td>0</td>\n",
       "      <td>0</td>\n",
       "      <td>0</td>\n",
       "      <td>0</td>\n",
       "      <td>0</td>\n",
       "      <td>0</td>\n",
       "      <td>0</td>\n",
       "      <td>...</td>\n",
       "      <td>0</td>\n",
       "      <td>0</td>\n",
       "      <td>0</td>\n",
       "      <td>0</td>\n",
       "      <td>0</td>\n",
       "      <td>0</td>\n",
       "      <td>0</td>\n",
       "      <td>0</td>\n",
       "      <td>0</td>\n",
       "      <td>Fungal infection</td>\n",
       "    </tr>\n",
       "    <tr>\n",
       "      <th>4</th>\n",
       "      <td>1</td>\n",
       "      <td>1</td>\n",
       "      <td>1</td>\n",
       "      <td>0</td>\n",
       "      <td>0</td>\n",
       "      <td>0</td>\n",
       "      <td>0</td>\n",
       "      <td>0</td>\n",
       "      <td>0</td>\n",
       "      <td>0</td>\n",
       "      <td>...</td>\n",
       "      <td>0</td>\n",
       "      <td>0</td>\n",
       "      <td>0</td>\n",
       "      <td>0</td>\n",
       "      <td>0</td>\n",
       "      <td>0</td>\n",
       "      <td>0</td>\n",
       "      <td>0</td>\n",
       "      <td>0</td>\n",
       "      <td>Fungal infection</td>\n",
       "    </tr>\n",
       "  </tbody>\n",
       "</table>\n",
       "<p>5 rows × 133 columns</p>\n",
       "</div>"
      ],
      "text/plain": [
       "   itching  skin_rash  nodal_skin_eruptions  continuous_sneezing  shivering  \\\n",
       "0        1          1                     1                    0          0   \n",
       "1        0          1                     1                    0          0   \n",
       "2        1          0                     1                    0          0   \n",
       "3        1          1                     0                    0          0   \n",
       "4        1          1                     1                    0          0   \n",
       "\n",
       "   chills  joint_pain  stomach_pain  acidity  ulcers_on_tongue  ...  \\\n",
       "0       0           0             0        0                 0  ...   \n",
       "1       0           0             0        0                 0  ...   \n",
       "2       0           0             0        0                 0  ...   \n",
       "3       0           0             0        0                 0  ...   \n",
       "4       0           0             0        0                 0  ...   \n",
       "\n",
       "   blackheads  scurring  skin_peeling  silver_like_dusting  \\\n",
       "0           0         0             0                    0   \n",
       "1           0         0             0                    0   \n",
       "2           0         0             0                    0   \n",
       "3           0         0             0                    0   \n",
       "4           0         0             0                    0   \n",
       "\n",
       "   small_dents_in_nails  inflammatory_nails  blister  red_sore_around_nose  \\\n",
       "0                     0                   0        0                     0   \n",
       "1                     0                   0        0                     0   \n",
       "2                     0                   0        0                     0   \n",
       "3                     0                   0        0                     0   \n",
       "4                     0                   0        0                     0   \n",
       "\n",
       "   yellow_crust_ooze         prognosis  \n",
       "0                  0  Fungal infection  \n",
       "1                  0  Fungal infection  \n",
       "2                  0  Fungal infection  \n",
       "3                  0  Fungal infection  \n",
       "4                  0  Fungal infection  \n",
       "\n",
       "[5 rows x 133 columns]"
      ]
     },
     "execution_count": 2,
     "metadata": {},
     "output_type": "execute_result"
    }
   ],
   "source": [
    "disease = pd.read_csv('Downloads/archive (8)/Training.csv')\n",
    "disease.head()"
   ]
  },
  {
   "cell_type": "code",
   "execution_count": 3,
   "id": "d6b442da-e0a7-435d-8df7-e493b910d543",
   "metadata": {},
   "outputs": [
    {
     "name": "stdout",
     "output_type": "stream",
     "text": [
      "<class 'pandas.core.frame.DataFrame'>\n",
      "RangeIndex: 4920 entries, 0 to 4919\n",
      "Columns: 133 entries, itching to prognosis\n",
      "dtypes: int64(132), object(1)\n",
      "memory usage: 5.0+ MB\n"
     ]
    }
   ],
   "source": [
    "disease.info()"
   ]
  },
  {
   "cell_type": "code",
   "execution_count": 4,
   "id": "9bdef770-182e-4aeb-b251-399ad08d188c",
   "metadata": {},
   "outputs": [
    {
     "data": {
      "text/plain": [
       "itching                 0\n",
       "skin_rash               0\n",
       "nodal_skin_eruptions    0\n",
       "continuous_sneezing     0\n",
       "shivering               0\n",
       "                       ..\n",
       "inflammatory_nails      0\n",
       "blister                 0\n",
       "red_sore_around_nose    0\n",
       "yellow_crust_ooze       0\n",
       "prognosis               0\n",
       "Length: 133, dtype: int64"
      ]
     },
     "execution_count": 4,
     "metadata": {},
     "output_type": "execute_result"
    }
   ],
   "source": [
    "disease.isnull().sum()"
   ]
  },
  {
   "cell_type": "code",
   "execution_count": 5,
   "id": "58608ddc-d86d-482e-916b-c213238d62ae",
   "metadata": {},
   "outputs": [
    {
     "data": {
      "text/plain": [
       "array(['Fungal infection', 'Allergy', 'GERD', 'Chronic cholestasis',\n",
       "       'Drug Reaction', 'Peptic ulcer diseae', 'AIDS', 'Diabetes ',\n",
       "       'Gastroenteritis', 'Bronchial Asthma', 'Hypertension ', 'Migraine',\n",
       "       'Cervical spondylosis', 'Paralysis (brain hemorrhage)', 'Jaundice',\n",
       "       'Malaria', 'Chicken pox', 'Dengue', 'Typhoid', 'hepatitis A',\n",
       "       'Hepatitis B', 'Hepatitis C', 'Hepatitis D', 'Hepatitis E',\n",
       "       'Alcoholic hepatitis', 'Tuberculosis', 'Common Cold', 'Pneumonia',\n",
       "       'Dimorphic hemmorhoids(piles)', 'Heart attack', 'Varicose veins',\n",
       "       'Hypothyroidism', 'Hyperthyroidism', 'Hypoglycemia',\n",
       "       'Osteoarthristis', 'Arthritis',\n",
       "       '(vertigo) Paroymsal  Positional Vertigo', 'Acne',\n",
       "       'Urinary tract infection', 'Psoriasis', 'Impetigo'], dtype=object)"
      ]
     },
     "execution_count": 5,
     "metadata": {},
     "output_type": "execute_result"
    }
   ],
   "source": [
    "disease['prognosis'].unique()"
   ]
  },
  {
   "cell_type": "code",
   "execution_count": 6,
   "id": "a9603c10-0b48-464e-9eaa-77c6f6f7aabe",
   "metadata": {},
   "outputs": [],
   "source": [
    "#The data is already preprocessed so, we don't need to do data preprocessing \n",
    "#So, we will only apply machine learning models and train the model"
   ]
  },
  {
   "cell_type": "code",
   "execution_count": 7,
   "id": "5af8c89c-10f5-4101-beb7-a2dfcf1429ef",
   "metadata": {},
   "outputs": [],
   "source": [
    "from sklearn.model_selection import train_test_split"
   ]
  },
  {
   "cell_type": "code",
   "execution_count": 8,
   "id": "0ef6d82b-23c0-4f9d-a85f-aa18f2c1965e",
   "metadata": {},
   "outputs": [],
   "source": [
    "X = disease.drop('prognosis',axis=1)\n",
    "y = disease['prognosis']"
   ]
  },
  {
   "cell_type": "code",
   "execution_count": 9,
   "id": "cc9d62e5-03af-447e-9f84-3c5f8087665b",
   "metadata": {},
   "outputs": [],
   "source": [
    "from sklearn.preprocessing import LabelEncoder\n",
    "le = LabelEncoder()\n",
    "le.fit(y)\n",
    "Y= le.transform(y)"
   ]
  },
  {
   "cell_type": "code",
   "execution_count": 10,
   "id": "2a1cdc35-6876-4673-a836-5c84ed007d84",
   "metadata": {},
   "outputs": [],
   "source": [
    "X_train,X_test,y_train,y_test = train_test_split(X,Y,test_size=0.3,random_state=20)"
   ]
  },
  {
   "cell_type": "code",
   "execution_count": 11,
   "id": "ed3d379c-6576-4b23-ab9e-616527434667",
   "metadata": {},
   "outputs": [],
   "source": [
    "from sklearn.datasets import make_classification\n",
    "from sklearn.svm import SVC\n",
    "from sklearn.ensemble import RandomForestClassifier , GradientBoostingClassifier\n",
    "from sklearn.neighbors import KNeighborsClassifier\n",
    "from sklearn.naive_bayes import MultinomialNB\n",
    "from sklearn.metrics import accuracy_score , confusion_matrix"
   ]
  },
  {
   "cell_type": "code",
   "execution_count": 12,
   "id": "2774ce0d-37d3-4a64-b771-9a89ba602580",
   "metadata": {},
   "outputs": [],
   "source": [
    "models = {\n",
    "    \"SVM\" : SVC(kernel = 'linear'),\n",
    "    \"RandomForest\" : RandomForestClassifier(n_estimators = 100,random_state=42),\n",
    "    \"GradientBoost\" : GradientBoostingClassifier(n_estimators = 100,random_state=42),\n",
    "    \"KNN\" : KNeighborsClassifier(n_neighbors=5),\n",
    "    \"NaiveBayes\" : MultinomialNB()  \n",
    "}"
   ]
  },
  {
   "cell_type": "code",
   "execution_count": 13,
   "id": "4c696945-a10a-4315-b883-d9153333ac2d",
   "metadata": {},
   "outputs": [
    {
     "name": "stdout",
     "output_type": "stream",
     "text": [
      "SVM, Accuracy : 1.0\n",
      "SVM, Confusion Matrix : [[40  0  0 ...  0  0  0]\n",
      " [ 0 43  0 ...  0  0  0]\n",
      " [ 0  0 28 ...  0  0  0]\n",
      " ...\n",
      " [ 0  0  0 ... 34  0  0]\n",
      " [ 0  0  0 ...  0 41  0]\n",
      " [ 0  0  0 ...  0  0 31]]\n",
      "\n",
      "\n",
      "RandomForest, Accuracy : 1.0\n",
      "RandomForest, Confusion Matrix : [[40  0  0 ...  0  0  0]\n",
      " [ 0 43  0 ...  0  0  0]\n",
      " [ 0  0 28 ...  0  0  0]\n",
      " ...\n",
      " [ 0  0  0 ... 34  0  0]\n",
      " [ 0  0  0 ...  0 41  0]\n",
      " [ 0  0  0 ...  0  0 31]]\n",
      "\n",
      "\n",
      "GradientBoost, Accuracy : 1.0\n",
      "GradientBoost, Confusion Matrix : [[40  0  0 ...  0  0  0]\n",
      " [ 0 43  0 ...  0  0  0]\n",
      " [ 0  0 28 ...  0  0  0]\n",
      " ...\n",
      " [ 0  0  0 ... 34  0  0]\n",
      " [ 0  0  0 ...  0 41  0]\n",
      " [ 0  0  0 ...  0  0 31]]\n",
      "\n",
      "\n",
      "KNN, Accuracy : 1.0\n",
      "KNN, Confusion Matrix : [[40  0  0 ...  0  0  0]\n",
      " [ 0 43  0 ...  0  0  0]\n",
      " [ 0  0 28 ...  0  0  0]\n",
      " ...\n",
      " [ 0  0  0 ... 34  0  0]\n",
      " [ 0  0  0 ...  0 41  0]\n",
      " [ 0  0  0 ...  0  0 31]]\n",
      "\n",
      "\n",
      "NaiveBayes, Accuracy : 1.0\n",
      "NaiveBayes, Confusion Matrix : [[40  0  0 ...  0  0  0]\n",
      " [ 0 43  0 ...  0  0  0]\n",
      " [ 0  0 28 ...  0  0  0]\n",
      " ...\n",
      " [ 0  0  0 ... 34  0  0]\n",
      " [ 0  0  0 ...  0 41  0]\n",
      " [ 0  0  0 ...  0  0 31]]\n",
      "\n",
      "\n"
     ]
    }
   ],
   "source": [
    "#Now we are creating a for loop to check for each model\n",
    "#So this for loop will take model_name and model from the dictionary models \\\n",
    "#generally we write models.key or models.value for getting either key or value\n",
    "#But here we need both , so we are writing models.items to access both the values\n",
    "\n",
    "for model_name, model in models.items():\n",
    "    #Training the model\n",
    "    model.fit(X_train,y_train)\n",
    "\n",
    "    #Testing the model\n",
    "    prediction = model.predict(X_test)\n",
    "\n",
    "    #Checking the accuracy \n",
    "    accuracy = accuracy_score(y_test,prediction)\n",
    "    print(f\"{model_name}, Accuracy : {accuracy}\" )\n",
    "\n",
    "    #Calculating the confusion matrix \n",
    "    confusionmatrix = confusion_matrix(y_test,prediction)\n",
    "    print(f\"{model_name}, Confusion Matrix : {confusionmatrix}\")\n",
    "    print(\"\\n\")\n",
    "\n"
   ]
  },
  {
   "cell_type": "code",
   "execution_count": 14,
   "id": "7e7a3b7f-2c57-4ddd-ac45-f6497607bc5e",
   "metadata": {},
   "outputs": [],
   "source": [
    "#among all the above algorithms, will choose Random Forest \n"
   ]
  },
  {
   "cell_type": "code",
   "execution_count": 15,
   "id": "736f0129-0073-4579-894f-4c6487f4d18e",
   "metadata": {},
   "outputs": [
    {
     "data": {
      "text/plain": [
       "1.0"
      ]
     },
     "execution_count": 15,
     "metadata": {},
     "output_type": "execute_result"
    }
   ],
   "source": [
    "RandomForest = RandomForestClassifier(n_estimators=100,random_state=42)\n",
    "RandomForest.fit(X_train,y_train)\n",
    "pred= RandomForest.predict(X_test)\n",
    "accuracy_score(y_test,pred)"
   ]
  },
  {
   "cell_type": "code",
   "execution_count": 20,
   "id": "77eed6b5-429a-46ed-b85d-89fa92192d1c",
   "metadata": {},
   "outputs": [],
   "source": [
    "#Saving the model \n",
    "import pickle\n",
    "#pickle.dump(RandomForest,open(\"RandomForest.pkl\",\"wb\"))\n",
    "#for saving we use wb i.e write and for loading the file we use rb\n",
    "#After saving commenting this cell of code for not to save the file again and again"
   ]
  },
  {
   "cell_type": "code",
   "execution_count": 19,
   "id": "1d9d851e-8fde-4279-beb7-5634489258a8",
   "metadata": {},
   "outputs": [],
   "source": [
    "#load the model"
   ]
  },
  {
   "cell_type": "code",
   "execution_count": 21,
   "id": "8df8144f-652c-4d40-a6f4-72e13d63954b",
   "metadata": {},
   "outputs": [],
   "source": [
    "RandomForest = pickle.load(open(\"RandomForest.pkl\",\"rb\"))"
   ]
  },
  {
   "cell_type": "code",
   "execution_count": 29,
   "id": "f3a24fc3-29fb-4686-b9d7-ab0d30f5fb4f",
   "metadata": {},
   "outputs": [
    {
     "name": "stderr",
     "output_type": "stream",
     "text": [
      "C:\\Users\\lenovo\\anaconda3\\Lib\\site-packages\\sklearn\\base.py:439: UserWarning: X does not have valid feature names, but RandomForestClassifier was fitted with feature names\n",
      "  warnings.warn(\n"
     ]
    },
    {
     "data": {
      "text/plain": [
       "array([40])"
      ]
     },
     "execution_count": 29,
     "metadata": {},
     "output_type": "execute_result"
    }
   ],
   "source": [
    "#testing the model\n",
    "RandomForest.predict(X_test.iloc[0].values.reshape(1,-1))\n",
    "\n",
    "#X_test.iloc[0].values.reshape(1,-1) , this code is to get the row in X_test \n",
    "#then we give it to the model and predict "
   ]
  },
  {
   "cell_type": "code",
   "execution_count": 31,
   "id": "de440427-993e-4163-a233-87f94e041c27",
   "metadata": {},
   "outputs": [
    {
     "data": {
      "text/plain": [
       "40"
      ]
     },
     "execution_count": 31,
     "metadata": {},
     "output_type": "execute_result"
    }
   ],
   "source": [
    "pred[0]\n",
    "\n",
    "#here we are cheking whether in the original and predicted outcome is same or not"
   ]
  },
  {
   "cell_type": "code",
   "execution_count": 32,
   "id": "406853c0-3c65-45a6-ada7-04be2734cea1",
   "metadata": {},
   "outputs": [
    {
     "name": "stdout",
     "output_type": "stream",
     "text": [
      "Original Outcome:  [40]\n",
      "Predicted Outcome:  40\n"
     ]
    },
    {
     "name": "stderr",
     "output_type": "stream",
     "text": [
      "C:\\Users\\lenovo\\anaconda3\\Lib\\site-packages\\sklearn\\base.py:439: UserWarning: X does not have valid feature names, but RandomForestClassifier was fitted with feature names\n",
      "  warnings.warn(\n"
     ]
    }
   ],
   "source": [
    "print(\"Original Outcome: \",RandomForest.predict(X_test.iloc[0].values.reshape(1,-1)) )\n",
    "print(\"Predicted Outcome: \", pred[0])"
   ]
  },
  {
   "cell_type": "code",
   "execution_count": 33,
   "id": "6cb01ad6-84ce-46d7-9753-284a64de4871",
   "metadata": {},
   "outputs": [],
   "source": [
    "#The model is working well\n",
    "#now we are applying logic for recommendation"
   ]
  },
  {
   "cell_type": "code",
   "execution_count": 35,
   "id": "61cc5e9a-7279-44e6-af95-6e37367676db",
   "metadata": {},
   "outputs": [],
   "source": [
    "sym = pd.read_csv(\"Downloads/archive (8)/symtoms_df.csv\")\n",
    "precautions = pd.read_csv(\"Downloads/archive (8)/precautions_df.csv\")\n",
    "medications = pd.read_csv(\"Downloads/archive (8)/medications.csv\")\n",
    "diet = pd.read_csv(\"Downloads/archive (8)/diets.csv\")\n",
    "description = pd.read_csv(\"Downloads/archive (8)/description.csv\")\n",
    "workout = pd.read_csv(\"Downloads/archive (8)/workout_df.csv\")"
   ]
  },
  {
   "cell_type": "code",
   "execution_count": 61,
   "id": "3925007c-4a72-4acc-8a2f-0565bf6504cc",
   "metadata": {},
   "outputs": [],
   "source": [
    "symptoms_dict = {'itching': 0, 'skin_rash': 1, 'nodal_skin_eruptions': 2, 'continuous_sneezing': 3, 'shivering': 4, 'chills': 5, 'joint_pain': 6, 'stomach_pain': 7, 'acidity': 8, 'ulcers_on_tongue': 9, 'muscle_wasting': 10, 'vomiting': 11, 'burning_micturition': 12, 'spotting_ urination': 13, 'fatigue': 14, 'weight_gain': 15, 'anxiety': 16, 'cold_hands_and_feets': 17, 'mood_swings': 18, 'weight_loss': 19, 'restlessness': 20, 'lethargy': 21, 'patches_in_throat': 22, 'irregular_sugar_level': 23, 'cough': 24, 'high_fever': 25, 'sunken_eyes': 26, 'breathlessness': 27, 'sweating': 28, 'dehydration': 29, 'indigestion': 30, 'headache': 31, 'yellowish_skin': 32, 'dark_urine': 33, 'nausea': 34, 'loss_of_appetite': 35, 'pain_behind_the_eyes': 36, 'back_pain': 37, 'constipation': 38, 'abdominal_pain': 39, 'diarrhoea': 40, 'mild_fever': 41, 'yellow_urine': 42, 'yellowing_of_eyes': 43, 'acute_liver_failure': 44, 'fluid_overload': 45, 'swelling_of_stomach': 46, 'swelled_lymph_nodes': 47, 'malaise': 48, 'blurred_and_distorted_vision': 49, 'phlegm': 50, 'throat_irritation': 51, 'redness_of_eyes': 52, 'sinus_pressure': 53, 'runny_nose': 54, 'congestion': 55, 'chest_pain': 56, 'weakness_in_limbs': 57, 'fast_heart_rate': 58, 'pain_during_bowel_movements': 59, 'pain_in_anal_region': 60, 'bloody_stool': 61, 'irritation_in_anus': 62, 'neck_pain': 63, 'dizziness': 64, 'cramps': 65, 'bruising': 66, 'obesity': 67, 'swollen_legs': 68, 'swollen_blood_vessels': 69, 'puffy_face_and_eyes': 70, 'enlarged_thyroid': 71, 'brittle_nails': 72, 'swollen_extremeties': 73, 'excessive_hunger': 74, 'extra_marital_contacts': 75, 'drying_and_tingling_lips': 76, 'slurred_speech': 77, 'knee_pain': 78, 'hip_joint_pain': 79, 'muscle_weakness': 80, 'stiff_neck': 81, 'swelling_joints': 82, 'movement_stiffness': 83, 'spinning_movements': 84, 'loss_of_balance': 85, 'unsteadiness': 86, 'weakness_of_one_body_side': 87, 'loss_of_smell': 88, 'bladder_discomfort': 89, 'foul_smell_of urine': 90, 'continuous_feel_of_urine': 91, 'passage_of_gases': 92, 'internal_itching': 93, 'toxic_look_(typhos)': 94, 'depression': 95, 'irritability': 96, 'muscle_pain': 97, 'altered_sensorium': 98, 'red_spots_over_body': 99, 'belly_pain': 100, 'abnormal_menstruation': 101, 'dischromic _patches': 102, 'watering_from_eyes': 103, 'increased_appetite': 104, 'polyuria': 105, 'family_history': 106, 'mucoid_sputum': 107, 'rusty_sputum': 108, 'lack_of_concentration': 109, 'visual_disturbances': 110, 'receiving_blood_transfusion': 111, 'receiving_unsterile_injections': 112, 'coma': 113, 'stomach_bleeding': 114, 'distention_of_abdomen': 115, 'history_of_alcohol_consumption': 116, 'fluid_overload.1': 117, 'blood_in_sputum': 118, 'prominent_veins_on_calf': 119, 'palpitations': 120, 'painful_walking': 121, 'pus_filled_pimples': 122, 'blackheads': 123, 'scurring': 124, 'skin_peeling': 125, 'silver_like_dusting': 126, 'small_dents_in_nails': 127, 'inflammatory_nails': 128, 'blister': 129, 'red_sore_around_nose': 130, 'yellow_crust_ooze': 131}\n",
    "disease_list = {15: 'Fungal infection', 4: 'Allergy', 16: 'GERD', 9: 'Chronic cholestasis', 14: 'Drug Reaction', 33: 'Peptic ulcer diseae', 1: 'AIDS', 12: 'Diabetes ', 17: 'Gastroenteritis', 6: 'Bronchial Asthma', 23: 'Hypertension ', 30: 'Migraine', 7: 'Cervical spondylosis', 32: 'Paralysis (brain hemorrhage)', 28: 'Jaundice', 29: 'Malaria', 8: 'Chicken pox', 11: 'Dengue', 37: 'Typhoid', 40: 'hepatitis A', 19: 'Hepatitis B', 20: 'Hepatitis C', 21: 'Hepatitis D', 22: 'Hepatitis E', 3: 'Alcoholic hepatitis', 36: 'Tuberculosis', 10: 'Common Cold', 34: 'Pneumonia', 13: 'Dimorphic hemmorhoids(piles)', 18: 'Heart attack', 39: 'Varicose veins', 26: 'Hypothyroidism', 24: 'Hyperthyroidism', 25: 'Hypoglycemia', 31: 'Osteoarthristis', 5: 'Arthritis', 0: '(vertigo) Paroymsal  Positional Vertigo', 2: 'Acne', 38: 'Urinary tract infection', 35: 'Psoriasis', 27: 'Impetigo'}\n",
    "\n",
    "#function to predict disease based on the symptoms given by the user using the model\n",
    "def predicted_values(patient_symptoms):\n",
    "\n",
    "    #first of all creating an array of zeros which contains the no of values equal to symptons dict i.e 132\n",
    "    input_vector= np.zeros(len(symptoms_dict))\n",
    "\n",
    "\n",
    "    #Now creating a loop for each symptom given by the user\n",
    "    for item in patient_symptoms:\n",
    "        input_vector[symptoms_dict[item]] = 1  #this line of code will search the patient symptoms in the symptoms dict and set them as 1 in input vector\n",
    "    return disease_list[RandomForest.predict([input_vector])[0]] \n",
    "    #function will return the disease from the diseases list which is predicted by the model based on the input vector\n"
   ]
  },
  {
   "cell_type": "code",
   "execution_count": 62,
   "id": "10b9bd12-ee20-4577-a934-e3d517bdd05e",
   "metadata": {},
   "outputs": [
    {
     "name": "stdin",
     "output_type": "stream",
     "text": [
      "Enter your symptoms...... shivering, chills,itching,skin_rash\n"
     ]
    },
    {
     "name": "stderr",
     "output_type": "stream",
     "text": [
      "C:\\Users\\lenovo\\anaconda3\\Lib\\site-packages\\sklearn\\base.py:439: UserWarning: X does not have valid feature names, but RandomForestClassifier was fitted with feature names\n",
      "  warnings.warn(\n"
     ]
    }
   ],
   "source": [
    "#Now testing the predicted_vales function\n",
    "symptoms = input(\"Enter your symptoms......\")\n",
    "#we get the input in string so converting it into list ans splitting the input \n",
    "user_symptoms = [s.strip() for s in symptoms.split(',')]\n",
    "user_symptoms = [sym.strip(\"[]' \") for sym in user_symptoms]\n",
    "predicted_disease = predicted_values(user_symptoms)"
   ]
  },
  {
   "cell_type": "code",
   "execution_count": 63,
   "id": "9f77954a-4ca3-4fe6-89dc-87ba3d61040e",
   "metadata": {},
   "outputs": [
    {
     "data": {
      "text/plain": [
       "'Allergy'"
      ]
     },
     "execution_count": 63,
     "metadata": {},
     "output_type": "execute_result"
    }
   ],
   "source": [
    "predicted_disease"
   ]
  },
  {
   "cell_type": "code",
   "execution_count": 69,
   "id": "8ec4e39b-7867-4cdc-8d33-cf4a7f254b94",
   "metadata": {},
   "outputs": [
    {
     "name": "stdout",
     "output_type": "stream",
     "text": [
      "<class 'pandas.core.frame.DataFrame'>\n",
      "RangeIndex: 410 entries, 0 to 409\n",
      "Data columns (total 4 columns):\n",
      " #   Column        Non-Null Count  Dtype \n",
      "---  ------        --------------  ----- \n",
      " 0   Unnamed: 0.1  410 non-null    int64 \n",
      " 1   Unnamed: 0    410 non-null    int64 \n",
      " 2   disease       410 non-null    object\n",
      " 3   workout       410 non-null    object\n",
      "dtypes: int64(2), object(2)\n",
      "memory usage: 12.9+ KB\n"
     ]
    }
   ],
   "source": [
    "workout.info()"
   ]
  },
  {
   "cell_type": "code",
   "execution_count": 72,
   "id": "9599864b-64c7-4839-a4e7-ed7aa8daa487",
   "metadata": {},
   "outputs": [],
   "source": [
    "#Now creating the function that will give recommendation like medication, diet , workout and many more based on the predicted disease\n",
    "def recommendation_func(disease):\n",
    "     #For description of the disease we will use 'description' dataset\n",
    "    desc = description[description['Disease'] == disease]['Description']\n",
    "    desc = \" \".join([w for w in desc]) #to show the full description\n",
    "\n",
    "    pre = precautions[precautions['Disease']== disease][['Precaution_1','Precaution_2','Precaution_3','Precaution_4']]\n",
    "    pre = [col for col in pre.values]\n",
    "\n",
    "    med = medications[medications['Disease'] == disease]['Medication']\n",
    "    med = [med for med in med.values]\n",
    "\n",
    "    diets = diet[diet['Disease'] == disease]['Diet']\n",
    "    diets = [diets for diets in diets.values]\n",
    "\n",
    "    workouts  = workout[workout['disease']== disease]['workout']\n",
    "\n",
    "\n",
    "    return desc,pre,med,diets,workouts\n",
    "     "
   ]
  },
  {
   "cell_type": "code",
   "execution_count": 76,
   "id": "181c447c-186e-4b69-9aca-05d06c21bbaf",
   "metadata": {},
   "outputs": [
    {
     "name": "stdout",
     "output_type": "stream",
     "text": [
      "=================predicted disease============\n",
      "Allergy\n",
      "=================description==================\n",
      "Allergy is an immune system reaction to a substance in the environment.\n",
      "=================precautions==================\n",
      "1 :  apply calamine\n",
      "2 :  cover area with bandage\n",
      "3 :  nan\n",
      "4 :  use ice to compress itching\n",
      "=================medications==================\n",
      "5 :  ['Antihistamines', 'Decongestants', 'Epinephrine', 'Corticosteroids', 'Immunotherapy']\n",
      "=================workout==================\n",
      "6 :  Avoid allergenic foods\n",
      "7 :  Consume anti-inflammatory foods\n",
      "8 :  Include omega-3 fatty acids\n",
      "9 :  Stay hydrated\n",
      "10 :  Eat foods rich in vitamin C\n",
      "11 :  Include quercetin-rich foods\n",
      "12 :  Consume local honey\n",
      "13 :  Limit processed foods\n",
      "14 :  Include ginger in diet\n",
      "15 :  Avoid artificial additives\n",
      "=================diets==================\n",
      "16 :  ['Elimination Diet', 'Omega-3-rich foods', 'Vitamin C-rich foods', 'Quercetin-rich foods', 'Probiotics']\n"
     ]
    }
   ],
   "source": [
    "#now checking this function using the above test case\n",
    "\n",
    "desc, pre, med, die, wrkout = recommendation_func(predicted_disease)\n",
    "\n",
    "print(\"=================predicted disease============\")\n",
    "print(predicted_disease)\n",
    "print(\"=================description==================\")\n",
    "print(desc)\n",
    "print(\"=================precautions==================\")\n",
    "i = 1\n",
    "for p_i in pre[0]:\n",
    "    print(i, \": \", p_i)\n",
    "    i += 1\n",
    "\n",
    "print(\"=================medications==================\")\n",
    "for m_i in med:\n",
    "    print(i, \": \", m_i)\n",
    "    i += 1\n",
    "\n",
    "print(\"=================workout==================\")\n",
    "for w_i in wrkout:\n",
    "    print(i, \": \", w_i)\n",
    "    i += 1\n",
    "\n",
    "print(\"=================diets==================\")\n",
    "for d_i in die:\n",
    "    print(i, \": \", d_i)\n",
    "    i += 1"
   ]
  },
  {
   "cell_type": "code",
   "execution_count": 3,
   "id": "39899c25-5766-4f68-a36e-8df974ef4326",
   "metadata": {},
   "outputs": [
    {
     "name": "stdout",
     "output_type": "stream",
     "text": [
      "1.2.2\n"
     ]
    }
   ],
   "source": [
    "#now we are done with the recommendation\n",
    "#now deploying using pycharm flask app\n",
    "import sklearn\n",
    "print(sklearn.__version__)"
   ]
  },
  {
   "cell_type": "code",
   "execution_count": null,
   "id": "a062a36b-9c0e-48d4-9952-9a36dd5a1f67",
   "metadata": {},
   "outputs": [],
   "source": []
  }
 ],
 "metadata": {
  "kernelspec": {
   "display_name": "Python 3 (ipykernel)",
   "language": "python",
   "name": "python3"
  },
  "language_info": {
   "codemirror_mode": {
    "name": "ipython",
    "version": 3
   },
   "file_extension": ".py",
   "mimetype": "text/x-python",
   "name": "python",
   "nbconvert_exporter": "python",
   "pygments_lexer": "ipython3",
   "version": "3.11.7"
  }
 },
 "nbformat": 4,
 "nbformat_minor": 5
}
